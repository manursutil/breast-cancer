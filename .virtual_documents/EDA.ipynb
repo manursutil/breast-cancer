


import numpy as np
import pandas as pd
from sklearn.preprocessing import LabelEncoder


df = pd.read_csv('./data/data.csv')





df.head()


df.shape








df.drop(columns='Unnamed: 32', axis=1, inplace=True)


df.info()





df.drop(columns='id', axis=1, inplace=True)


df.isnull().sum()





df.describe()





df['diagnosis'].value_counts()


label_encode = LabelEncoder()

labels = label_encode.fit_transform(df['diagnosis'])
df['target'] = labels

df.drop(columns='diagnosis', axis=1, inplace=True)


df['target'].value_counts()


df.groupby('target').mean()





import matplotlib.pyplot as plt
import seaborn as sns


sns.countplot(x='target', data=df)





for column in df:
    sns.displot(x=column, data=df)





for column in df:
    plt.figure()
    df.boxplot([column])





correlation_matrix = df.corr()

plt.figure(figsize=(20,20))
sns.heatmap(correlation_matrix, cbar=True, fmt='.1f', annot=True, cmap='Blues')
plt.savefig('Correlation Heat map')








sns.pairplot(df[['radius_mean', 'texture_mean', 'area_mean', 'smoothness_mean', 'target']], hue='target')
plt.suptitle("Pairplot of Selected Features", y=1.02)
plt.savefig('Pairplot of selected features')
plt.show()















